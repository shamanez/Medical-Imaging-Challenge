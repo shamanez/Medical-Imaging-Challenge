{
 "cells": [
  {
   "cell_type": "markdown",
   "metadata": {},
   "source": [
    "# Ultrasound Nerve Segmentation"
   ]
  },
  {
   "cell_type": "code",
   "execution_count": 1,
   "metadata": {},
   "outputs": [
    {
     "name": "stdout",
     "output_type": "stream",
     "text": [
      "WARNING:tensorflow:From /home/dl/py2/local/lib/python2.7/site-packages/tensorflow/contrib/learn/python/learn/datasets/base.py:198: retry (from tensorflow.contrib.learn.python.learn.datasets.base) is deprecated and will be removed in a future version.\n",
      "Instructions for updating:\n",
      "Use the retry module or similar alternatives.\n"
     ]
    }
   ],
   "source": [
    "import tensorflow as tf\n",
    "import matplotlib.pyplot as plt\n",
    "import os, glob, math,  time\n",
    "#import cv2\n",
    "import PIL\n",
    "import numpy as np\n",
    "import sys\n",
    "import re\n",
    "import csv\n",
    "from tensorflow.contrib import slim\n",
    "from tensorflow.contrib.layers.python.layers import layers\n",
    "from scipy.misc import imresize\n",
    "import pdb\n",
    "%matplotlib inline"
   ]
  },
  {
   "cell_type": "markdown",
   "metadata": {},
   "source": [
    "First, let's load the training data, images will be resized to 128x128 and will later be converted to TFrecords format so we dont need to hold them into memory."
   ]
  },
  {
   "cell_type": "code",
   "execution_count": 2,
   "metadata": {},
   "outputs": [],
   "source": [
    "train_path='/home/dl/Videos/ex_1/' #path where the training images are\n",
    "train_path2='/home/dl/Videos/ex_1_L/' #path where the training images are\n",
    "test_path='/home/dl/Pictures/train/test/' #path to where the testing images are\n",
    "record_path='/home/dl/Downloads/Ultrasound-Nerve-Segmentation-master/tf_records/' #where the TFrecords will be saved\n",
    "tensorb_path='/home/dl/Downloads/Ultrasound-Nerve-Segmentation-master/tenorr_path/'#where the tensorboard events will be saved\n",
    "ckpt_path=\"/home/dl/Downloads/Ultrasound-Nerve-Segmentation-master/ckpt/\" #where checkpoints will be saved"
   ]
  },
  {
   "cell_type": "code",
   "execution_count": 3,
   "metadata": {},
   "outputs": [],
   "source": [
    "def process_image(img_file):  \n",
    " \"rezize images\"\n",
    " img = cv2.imread(img_file,1)\n",
    " img = (cv2.resize(img,(height,width)).astype('uint8'))\n",
    " img = (cv2.cvtColor(img, cv2.COLOR_BGR2GRAY))\n",
    " return img\n",
    "\n",
    "def load_training():\n",
    " start = time.time()\n",
    " id_patient_t=[]\n",
    " id_patient_l=[]\n",
    " X_train=[] \n",
    " Y_train=[]\n",
    "\n",
    " X_train_S=[] \n",
    " Y_train_S=[]\n",
    "\n",
    "#####################################################################################################\n",
    " print('Loading training data')\n",
    " path = train_path+'*[0-9].jpeg'\n",
    " files = glob.glob(path)\n",
    "\n",
    " print('Loading Test Data')\n",
    " path2 = train_path2+'*[0-9].jpeg'\n",
    " files2 = glob.glob(path2)\n",
    "#####################################################################################################\n",
    "\n",
    " for im_file in files:\n",
    "  id_patient_t.append(im_file)\n",
    "  img = PIL.Image.open(im_file)\n",
    "  img = img.resize((128, 128), PIL.Image.ANTIALIAS)    \n",
    "  img=np.array(img)\n",
    "  X_train.append(img)\n",
    "\n",
    " for im_file in sorted(id_patient_t):\n",
    "    img = PIL.Image.open(im_file)\n",
    "    img = img.resize((128, 128), PIL.Image.ANTIALIAS)    \n",
    "    img=np.array(img)\n",
    "    X_train_S.append(img)\n",
    "    \n",
    "\n",
    "\n",
    "    \n",
    "\n",
    " for im_file in files2:\n",
    "  id_patient_l.append(im_file)\n",
    "  img = PIL.Image.open(im_file)\n",
    "  img = img.resize((128, 128), PIL.Image.ANTIALIAS)   \n",
    "  img=np.array(img)\n",
    "  Y_train.append(img)  \n",
    "\n",
    "\n",
    "\n",
    " for im_file in sorted(id_patient_l):\n",
    "    img = PIL.Image.open(im_file)\n",
    "    img = img.resize((128, 128), PIL.Image.ANTIALIAS)    \n",
    "    img=np.array(img)\n",
    "    Y_train_S.append(img)\n",
    "\n",
    "#####################################################################################################\n",
    " \n",
    " end = time.time() - start\n",
    " print(\"Number of training examples : %.4r\" % (len(X_train)))\n",
    " print(\"Number of testing examples : %.4r\" % (len(Y_train)))\n",
    " print(\"Time: %.2f seconds\" % end)\n",
    " return X_train,Y_train,id_patient_t,id_patient_l,X_train_S,Y_train_S\n",
    "\n",
    "#####################################################################################################\n",
    "\n",
    "def load_testing():\n",
    " start = time.time()\n",
    " test=[]\n",
    " idtest=[]\n",
    " print('Loading testing data')\n",
    " path = test_path+'*[0-9].jpeg'\n",
    " files = glob.glob(path)\n",
    " for im_file in files:\n",
    "  img=process_image(im_file)\n",
    "  test.append(img)\n",
    "  idtest.append((im_file.split('/')[-1].split('.')[0]))\n",
    " end = time.time() - start\n",
    " print(\"Number of testing examples : %.4r\" % (len(test)))\n",
    " print(\"Time: %.2f seconds\" % end)\n",
    " test=np.asarray(test)\n",
    " return test,idtest\n",
    "\n",
    "def show_image_and_mask(idx):\n",
    "    \"\"\" Displays a training image and the mask. \"\"\"\n",
    "    im = X[idx]\n",
    "    plt.subplot(121)\n",
    "    plt.imshow(im,cmap=\"gray\")\n",
    "\n",
    "    mask = Y[idx]\n",
    "    plt.subplot(122)\n",
    "    plt.imshow(mask,cmap=\"gray\")\n",
    "    \n",
    "\n",
    "def show_image_and_mask2(idx):\n",
    "    \"\"\" Displays a training image and the mask. \"\"\"\n",
    "    im = X_train_S[idx]\n",
    "    plt.subplot(121)\n",
    "    plt.imshow(im,cmap=\"gray\")\n",
    "\n",
    "    mask = Y_train_S[idx]\n",
    "    plt.subplot(122)\n",
    "    plt.imshow(mask,cmap=\"gray\")"
   ]
  },
  {
   "cell_type": "code",
   "execution_count": 4,
   "metadata": {},
   "outputs": [
    {
     "name": "stdout",
     "output_type": "stream",
     "text": [
      "Loading training data\n",
      "Loading Test Data\n",
      "Number of training examples : 88\n",
      "Number of testing examples : 88\n",
      "Time: 1.27 seconds\n"
     ]
    }
   ],
   "source": [
    "X,Y,id_patient_t,id_patient_l,X_train_S,Y_train_S=load_training()"
   ]
  },
  {
   "cell_type": "markdown",
   "metadata": {},
   "source": [
    "This is what our images looks like"
   ]
  },
  {
   "cell_type": "code",
   "execution_count": 5,
   "metadata": {},
   "outputs": [
    {
     "data": {
      "image/png": "[encoded data removed]",
      "text/plain": [
       "<Figure size 432x288 with 2 Axes>"
      ]
     },
     "metadata": {},
     "output_type": "display_data"
    }
   ],
   "source": [
    "show_image_and_mask(0)"
   ]
  },
  {
   "cell_type": "code",
   "execution_count": 6,
   "metadata": {},
   "outputs": [
    {
     "data": {
      "image/png": "[encoded data removed]",
      "text/plain": [
       "<Figure size 432x288 with 2 Axes>"
      ]
     },
     "metadata": {},
     "output_type": "display_data"
    }
   ],
   "source": [
    "show_image_and_mask2(2)"
   ]
  },
  {
   "cell_type": "markdown",
   "metadata": {},
   "source": [
    "Now we split the images into training and validation sets. We want to split on patients rather than randomly to avoid overfitting. There are 47 patients, each have either 119 or 120 images. We takes 39 patients as training and the remaining 8 as validation"
   ]
  },
  {
   "cell_type": "code",
   "execution_count": 7,
   "metadata": {},
   "outputs": [],
   "source": [
    "Xtrain=X_train_S[0:40]\n",
    "Ytrain=Y_train_S[0:40]\n",
    "Xvalid=X_train_S[40:]\n",
    "Yvalid=Y_train_S[40:]"
   ]
  },
  {
   "cell_type": "markdown",
   "metadata": {},
   "source": [
    "Let's convert them to TFrecords format"
   ]
  },
  {
   "cell_type": "code",
   "execution_count": 8,
   "metadata": {},
   "outputs": [],
   "source": [
    "def _int64_feature(value):\n",
    "  return tf.train.Feature(int64_list=tf.train.Int64List(value=[value]))\n",
    "def _bytes_feature(value):\n",
    "  return tf.train.Feature(bytes_list=tf.train.BytesList(value=[value]))\n",
    "\n",
    "def convert_to(images,masks,name):\n",
    "  num_examples = np.shape(images)[0]\n",
    "\n",
    "  rows = np.shape(images)[1]\n",
    "  cols = np.shape(images)[2]\n",
    "  depth = 1 \n",
    "  filename = os.path.join(record_path, name + '.tfrecords')\n",
    "  \n",
    "  print('Writing', filename)\n",
    "\n",
    " \n",
    "  writer = tf.python_io.TFRecordWriter(filename)\n",
    "\n",
    "\n",
    "  for index in range(num_examples):\n",
    "    image_raw = images[index].tostring()\n",
    "    mask_raw=masks[index].tostring()\n",
    "    example = tf.train.Example(features=tf.train.Features(feature={\n",
    "        'height': _int64_feature(rows),\n",
    "        'width': _int64_feature(cols),\n",
    "        'depth': _int64_feature(depth),\n",
    "        'image_raw': _bytes_feature(image_raw),\n",
    "        'mask_raw': _bytes_feature(mask_raw)}))\n",
    "    writer.write(example.SerializeToString())\n",
    "  writer.close()\n",
    "\n",
    "\n",
    "def convert_topred(images,idtest,name):\n",
    "  num_examples = np.shape(images)[0]\n",
    "\n",
    "  rows = np.shape(images)[1]\n",
    "  cols = np.shape(images)[2]\n",
    "  depth = 1 \n",
    "\n",
    "  filename = os.path.join(record_path, name + '.tfrecords')\n",
    "  print('Writing', filename)\n",
    "  writer = tf.python_io.TFRecordWriter(filename)\n",
    "  for index in range(num_examples):\n",
    "    image_raw = images[index].tostring()\n",
    "    example = tf.train.Example(features=tf.train.Features(feature={\n",
    "        'height': _int64_feature(rows),\n",
    "        'width': _int64_feature(cols),\n",
    "        'depth': _int64_feature(depth),\n",
    "        'image_raw': _bytes_feature(image_raw),\n",
    "        'idtest': _int64_feature(int(idtest[index]))}))\n",
    "    writer.write(example.SerializeToString())\n",
    "  writer.close()"
   ]
  },
  {
   "cell_type": "code",
   "execution_count": 9,
   "metadata": {},
   "outputs": [
    {
     "name": "stdout",
     "output_type": "stream",
     "text": [
      "('Writing', '/home/dl/Downloads/Ultrasound-Nerve-Segmentation-master/tf_records/trainrecord.tfrecords')\n",
      "('Writing', '/home/dl/Downloads/Ultrasound-Nerve-Segmentation-master/tf_records/validrecord.tfrecords')\n"
     ]
    }
   ],
   "source": [
    "convert_to(Xtrain,Ytrain,'trainrecord')\n",
    "convert_to(Xvalid,Yvalid,'validrecord')\n",
    "#convert_topred(test,idtest,'testrecord')"
   ]
  },
  {
   "cell_type": "code",
   "execution_count": 10,
   "metadata": {},
   "outputs": [],
   "source": [
    "#convert_topred(test,idtest,'testrecord')"
   ]
  },
  {
   "cell_type": "code",
   "execution_count": 11,
   "metadata": {},
   "outputs": [],
   "source": [
    "\n",
    "del Xtrain\n",
    "del Xvalid\n",
    "del Yvalid"
   ]
  },
  {
   "cell_type": "markdown",
   "metadata": {},
   "source": [
    "Now we have our data as TFrecords , we need to be able to read and decode them"
   ]
  },
  {
   "cell_type": "code",
   "execution_count": 74,
   "metadata": {},
   "outputs": [],
   "source": [
    "def read_and_decode(filename_queue):\n",
    "  reader = tf.TFRecordReader()\n",
    "  _, serialized_example = reader.read(filename_queue)\n",
    "  features = tf.parse_single_example(\n",
    "      serialized_example,\n",
    "      features={\n",
    "          'image_raw': tf.FixedLenFeature([], tf.string),\n",
    "          'mask_raw':tf.FixedLenFeature([], tf.string)})\n",
    "\n",
    " \n",
    "  image = tf.decode_raw(features['image_raw'], tf.uint8)\n",
    "  image = tf.reshape(image, [height,width])\n",
    " \n",
    "  mask=tf.decode_raw(features['mask_raw'], tf.uint8)\n",
    "  mask = tf.reshape(mask, [height,width])\n",
    "\n",
    "  # Convert from [0, 255] -> [-0.5, 0.5] floats.\n",
    "  image = tf.cast(image, tf.float32) * (1. / 255) - 0.5\n",
    "  \n",
    "  #Convert from [0, 255] -> [0, 1] floats.\n",
    "  mask=tf.cast(mask, tf.float32) * (1. / 255)\n",
    "  return image,mask\n",
    "\n",
    "def read_and_decode_pred(filename_queue):\n",
    "  reader = tf.TFRecordReader()\n",
    "  _, serialized_example = reader.read(filename_queue)\n",
    "  features = tf.parse_single_example(\n",
    "      serialized_example,\n",
    "      features={\n",
    "          'image_raw': tf.FixedLenFeature([], tf.string)})\n",
    "\n",
    " \n",
    "  image = tf.decode_raw(features['image_raw'], tf.uint8)\n",
    "  image = tf.reshape(image, [height,width])\n",
    " \n",
    " # Convert from [0, 255] -> [-0.5, 0.5] floats.\n",
    "  image = tf.cast(image, tf.float32) * (1. / 255) - 0.5\n",
    "  #idtest = tf.cast(features['idtest'], tf.int32)\n",
    "  return image#,idtest"
   ]
  },
  {
   "cell_type": "markdown",
   "metadata": {},
   "source": [
    "To improve the network's performance we make use of data augmentation,when the images are loaded they are randomly flipped vertically and/or horizontaly ,there are already built-in functions to do that in tensorflow, but they take only one image at a time,this is fine for  classficiation problems where the target of an input is just a number (the class) but not for segmentation problems where the target of an input is another image, we need to make sure the input and the target are distorted the same way,the next function is there to do that (credit to \"mtourne\" on stackoverflow) "
   ]
  },
  {
   "cell_type": "code",
   "execution_count": 75,
   "metadata": {},
   "outputs": [],
   "source": [
    "def image_distortions(image, distortions):\n",
    "    #distort_left_right_random = distortions[0]\n",
    "    #mirror = tf.less(tf.stack([1, distort_left_right_random, 1.0]), 0.5)\n",
    "    #mirror=tf.cast(mirror,dtype=tf.int32)\n",
    "   \n",
    "    #image = tf.reverse(image, mirror,name='xxxxxxxxxxxxxxxxxxxxxzzzzzzz')\n",
    "    #distort_up_down_random = distortions[1]\n",
    "    #mirror = tf.cast(tf.less(tf.stack([distort_up_down_random, 1.0, 1.0]), 0.5),dtype=tf.int32)\n",
    "    #image = tf.reverse(image, mirror)\n",
    "    return image"
   ]
  },
  {
   "cell_type": "code",
   "execution_count": 76,
   "metadata": {},
   "outputs": [],
   "source": [
    "def distorted_inputs(batch_size, num_epochs):\n",
    "  \"\"\"Construct distorted input for  training\"\"\"\n",
    "  if not num_epochs: num_epochs = None\n",
    "  filename =record_path+ 'trainrecord.tfrecords'\n",
    "\n",
    "  with tf.name_scope('input'):\n",
    "    filename_queue = tf.train.string_input_producer(\n",
    "        [filename], num_epochs=num_epochs)\n",
    "\n",
    "    image,mask= read_and_decode(filename_queue)\n",
    "    \n",
    "  image= tf.reshape(image, [height,width,1])\n",
    "\n",
    "  mask=tf.reshape(mask, [height,width,1])\n",
    "  \n",
    "  distortions = tf.random_uniform([2], 0.0, 1.0, dtype=tf.float64)\n",
    "    \n",
    " \n",
    "  image = image_distortions(image, distortions)\n",
    "    \n",
    "\n",
    "\n",
    "  mask = image_distortions(mask, distortions)# image and mask will be distorted the same way\n",
    "\n",
    "\n",
    "\n",
    "    # Shuffle the examples and collect them into batch_size batches.\n",
    "    # (Internally uses a RandomShuffleQueue.)\n",
    "    # We run this in two threads to avoid being a bottleneck.\n",
    "  with tf.device('/cpu:0'):\n",
    "     images, masks = tf.train.shuffle_batch(\n",
    "        [image,mask], batch_size=batch_size, num_threads=2,\n",
    "        capacity=1000 + 3 * batch_size,allow_smaller_final_batch=False,\n",
    "        # Ensures a minimum amount of shuffling of examples.\n",
    "        min_after_dequeue=1000)\n",
    "     \n",
    "  tf.summary.image('image', images,max_outputs=2) #This will show the images on TensorBoard\n",
    "  tf.summary.image('mask', masks,max_outputs=2)\n",
    "  masks=tf.cast(masks, tf.int64)  \n",
    "  return images,masks"
   ]
  },
  {
   "cell_type": "code",
   "execution_count": 89,
   "metadata": {},
   "outputs": [],
   "source": [
    "def inputs(train, batch_size, num_epochs):\n",
    "  \"\"\"same as the previous function but images are not distorted (for evaluation)\"\"\"\n",
    "  if train==True:\n",
    "   filename = record_path+'trainrecord.tfrecords'\n",
    "  else:\n",
    "   filename = record_path+'validrecord.tfrecords'\n",
    "      \n",
    "\n",
    "  with tf.name_scope('input'):\n",
    "    filename_queue = tf.train.string_input_producer(\n",
    "        [filename], num_epochs=num_epochs)\n",
    "    image,mask= read_and_decode(filename_queue)\n",
    "  \n",
    "  image=tf.reshape(image, [height,width,1])\n",
    "  mask=tf.reshape(mask, [height,width,1])  \n",
    "\n",
    "  with tf.device('/cpu:0'):\n",
    "     images, masks = tf.train.batch(\n",
    "        [image,mask], batch_size=batch_size, num_threads=2,\n",
    "        capacity=1000 + 3 * batch_size,allow_smaller_final_batch=False)\n",
    "  tf.summary.image('image', images,max_outputs=2)\n",
    "  tf.summary.image('mask', masks,max_outputs=2)\n",
    "  masks=tf.cast(masks, tf.int64) \n",
    "  return images,masks\n",
    "\n",
    "def inputs_topred(batch_size, num_epochs):\n",
    "    filename = record_path+'trainrecord.tfrecords'\n",
    "    print(filename)\n",
    "    print(\"Shamane\")\n",
    "    '''\n",
    "    with tf.name_scope('input'):\n",
    "        filename_queue = tf.train.string_input_producer(\n",
    "        [filename], num_epochs=num_epochs)\n",
    "        image=read_and_decode_pred(filename_queue)\n",
    "        image=tf.reshape(image, [height,width,1])\n",
    "    '''\n",
    "    with tf.name_scope('input'):\n",
    "        filename_queue = tf.train.string_input_producer(\n",
    "            [filename], num_epochs=num_epochs)\n",
    "        image,mask= read_and_decode(filename_queue)\n",
    "    image=tf.reshape(image, [height,width,1])\n",
    "    with tf.device('/cpu:0'):\n",
    "     images,mask = tf.train.batch(\n",
    "     [image,mask],batch_size=batch_size, num_threads=1,allow_smaller_final_batch=True,capacity=1000 + 3 * batch_size)\n",
    "     return images"
   ]
  },
  {
   "cell_type": "markdown",
   "metadata": {},
   "source": [
    "Now we define the network architecture using TensorFlow-Slim "
   ]
  },
  {
   "cell_type": "code",
   "execution_count": 90,
   "metadata": {},
   "outputs": [],
   "source": [
    "def inference(data,is_training,batch_norm,scope=''):\n",
    "  prob=0.60\n",
    "  with slim.arg_scope([slim.conv2d], padding='SAME', normalizer_fn=slim.batch_norm,\n",
    "                     normalizer_params={'decay': 0.9997,'is_training':batch_norm,'updates_collections':None,\n",
    "                     'trainable':is_training},\n",
    "                      weights_initializer=slim.initializers.xavier_initializer()\n",
    "                     ,weights_regularizer=slim.l2_regularizer(0.0005)):    \n",
    "    \n",
    "    conv1 = slim.repeat(data, 2, slim.conv2d, 32, [3, 3], scope='conv1')\n",
    "    conv1 = slim.dropout(conv1, prob,is_training=is_training,scope='dropout1')\n",
    "    pool1 = slim.max_pool2d(conv1, [2, 2], scope='pool1') # 64\n",
    "    conv2 = slim.repeat(pool1, 2, slim.conv2d, 64, [3, 3], scope='conv2')\n",
    "    conv2 = slim.dropout(conv2, prob,is_training=is_training,scope='dropout2')\n",
    "    pool2 = slim.max_pool2d(conv2, [2, 2], scope='pool2') # 32\n",
    "    conv3 = slim.repeat(pool2, 2, slim.conv2d, 128, [3, 3], scope='conv3')\n",
    "    conv3 = slim.dropout(conv3, prob,is_training=is_training,scope='dropout3')\n",
    "    pool3 = slim.max_pool2d(conv3, [2, 2], scope='pool3') # 16\n",
    "    conv4 = slim.repeat(pool3, 2, slim.conv2d, 256, [3, 3], scope='conv4')\n",
    "    conv4 = slim.dropout(conv4, prob,is_training=is_training,scope='dropout4')\n",
    "    pool4 = slim.max_pool2d(conv4, [2, 2], scope='pool4')#8\n",
    "    conv5 = slim.repeat(pool4, 2, slim.conv2d, 512, [3, 3], scope='conv5')\n",
    "    conv5 = slim.dropout(conv5, prob,is_training=is_training,scope='dropout5')\n",
    "\n",
    "  with slim.arg_scope([slim.conv2d,slim.conv2d_transpose], padding='SAME',\n",
    "                     normalizer_fn=slim.batch_norm,\n",
    "                     normalizer_params={'decay': 0.9997,'is_training':batch_norm,'updates_collections':None,\n",
    "                    'trainable':is_training},\n",
    "                     weights_initializer=slim.initializers.xavier_initializer(),\n",
    "                     weights_regularizer=slim.l2_regularizer(0.0005)):\n",
    "    \n",
    "    deconv1=slim.conv2d_transpose(conv5,512,stride=2,kernel_size=2) #16\n",
    "    deconv1 = slim.dropout(deconv1, prob,is_training=is_training,scope='d_dropout1')\n",
    "    concat1=tf.concat([conv4,deconv1],axis=3,name='concat1')\n",
    "    conv6 = slim.repeat(concat1, 2, slim.conv2d, 256, [3, 3], scope='conv6')  \n",
    "    conv6 = slim.dropout(conv6, prob,is_training=is_training,scope='dropout6')\n",
    "    deconv2=slim.conv2d_transpose(conv6,256,stride=2,kernel_size=2) #32\n",
    "    deconv2 = slim.dropout(deconv2, prob,is_training=is_training,scope='d_dropout2')\n",
    "    concat2=tf.concat([conv3,deconv2],axis=3,name='concat2')   \n",
    "    conv7 = slim.repeat(concat2, 2, slim.conv2d,128, [3, 3], scope='conv7')\n",
    "    conv7 = slim.dropout(conv7, prob,is_training=is_training,scope='dropout7')\n",
    "    deconv3=slim.conv2d_transpose(conv7,128,stride=2,kernel_size=2) #64\n",
    "    deconv3 = slim.dropout(deconv3, prob,is_training=is_training,scope='d_dropout3')\n",
    "    concat3=tf.concat([conv2,deconv3],axis=3,name='concat3')\n",
    "    conv8 = slim.repeat(concat3, 2, slim.conv2d, 64, [3, 3], scope='conv8')\n",
    "    conv8 = slim.dropout(conv8, prob,is_training=is_training,scope='dropout8')\n",
    "    deconv4=slim.conv2d_transpose(conv8,64,stride=2,kernel_size=2) #128\n",
    "    deconv4 = slim.dropout(deconv4, prob,is_training=is_training,scope='d_dropout4')\n",
    "    concat4=tf.concat([conv1,deconv4],axis=3,name='concat4')\n",
    "    conv9 = slim.repeat(concat4, 2, slim.conv2d, 32, [3, 3], scope='conv9')\n",
    "    conv9 = slim.dropout(conv9, prob,is_training=is_training,scope='dropout9')\n",
    "    conv1x1=slim.conv2d(conv9, 2, [1, 1],  activation_fn=tf.nn.sigmoid,scope='conv1x1')\n",
    "  \n",
    "  return conv1x1"
   ]
  },
  {
   "cell_type": "code",
   "execution_count": 91,
   "metadata": {},
   "outputs": [],
   "source": [
    "def dice_coef(y_true, y_pred):\n",
    "    \"\"\"Compute the mean(batch-wise) of dice coefficients\"\"\"\n",
    "    md=tf.constant(0.0)\n",
    "    y_true=tf.cast(y_true, tf.float32)\n",
    "    y_true_f = slim.flatten(y_true)\n",
    "    y_pred_f = slim.flatten(y_pred)\n",
    "    for i in range(batch_size):\n",
    "     union=tf.reduce_sum(y_true_f[i]) + tf.reduce_sum(y_pred_f[i]) \n",
    "     md = tf.cond(tf.equal(union,0.0), lambda: tf.add(md,1.0), \n",
    "                 lambda: tf.add(md,tf.div(2.*tf.reduce_sum(tf.multiply(y_true_f[i],y_pred_f[i])),union))) \n",
    "\n",
    "    return tf.div(md,batch_size)"
   ]
  },
  {
   "cell_type": "markdown",
   "metadata": {},
   "source": [
    "We can now start the training"
   ]
  },
  {
   "cell_type": "code",
   "execution_count": 92,
   "metadata": {},
   "outputs": [],
   "source": [
    "num_epochs=10000\n",
    "batch_size=25\n",
    "\n",
    "height=128\n",
    "width=128\n",
    "\n",
    "def train():\n",
    "  \n",
    "  with tf.Graph().as_default():\n",
    "  \n",
    "    images, masks =distorted_inputs(batch_size=batch_size,num_epochs=num_epochs)\n",
    "    masks=tf.reshape(masks,[batch_size,height,width], name=None)\n",
    "    \n",
    "   \n",
    "    logits=inference(images,is_training=True,batch_norm=True)\n",
    "    \n",
    "    \n",
    "    pred=tf.argmax(logits, dimension=3)\n",
    "    pred=tf.reshape(pred, [batch_size,height,width,1])\n",
    "    pred=tf.cast(pred, tf.float32)\n",
    "    tf.summary.image('predicted', pred,max_outputs=2) # This will display predicted images in tensorboard\n",
    "    \n",
    "    \n",
    "   \n",
    "    class_weight = tf.constant([0.75,0.25])\n",
    "    weighted_logits =tf.multiply(logits, class_weight) \n",
    "    cross_entropy = tf.nn.sparse_softmax_cross_entropy_with_logits(logits=weighted_logits, labels=masks)\n",
    "    \n",
    "   \n",
    "    \n",
    "    loss = tf.reduce_mean(cross_entropy, name='xentropy_mean')\n",
    "    dice=dice_coef(masks,pred)\n",
    "    \n",
    "    tf.summary.scalar('loss', loss)#tensorboard will keep track of loss and dice during training\n",
    "    tf.summary.scalar('dice', dice)\n",
    "\n",
    "\n",
    "    train_op=tf.train.AdamOptimizer(learning_rate=0.0005, beta1=0.9, beta2=0.999,\n",
    "                                  epsilon=1e-08, use_locking=False).minimize(loss)\n",
    "    \n",
    "\n",
    "\n",
    "\n",
    "    # Build the summary operation based on the TF collection of Summaries.\n",
    "    tf.add_to_collection('train_op', train_op)\n",
    "    saver = tf.train.Saver(tf.all_variables())\n",
    "    summary_op = tf.summary.merge_all()\n",
    "    # Build an initialization operation to run below.\n",
    "    init = tf.group(tf.initialize_all_variables(),\n",
    "                    tf.initialize_local_variables())\n",
    "    \n",
    "  \n",
    "\n",
    "    # Start running operations on the Graph.\n",
    "    sess = tf.Session(config=tf.ConfigProto(\n",
    "        log_device_placement=False))\n",
    "    sess.run(init)\n",
    "   \n",
    "    coord = tf.train.Coordinator()\n",
    "    threads = tf.train.start_queue_runners(sess=sess, coord=coord)\n",
    "    summary_writer =tf.summary.FileWriter(logdir=tensorb_path, graph=sess.graph)\n",
    "    \n",
    "    try: \n",
    "      step = 0\n",
    "      while not coord.should_stop():\n",
    "          \n",
    "    \n",
    "        start_time = time.time()\n",
    "        x,loss_value,dice_value= sess.run([train_op, loss,dice])\n",
    "        \n",
    "        duration = time.time() - start_time\n",
    "        if step % 10 == 0:\n",
    "        \n",
    "          \n",
    "          #print('Step %d: loss = %.10f (%.3f sec) dice=%.2f' % (step, loss_value,duration,dice_value))\n",
    "          summary_str = sess.run(summary_op)\n",
    "          summary_writer.add_summary(summary_str, step)\n",
    "        if step % 1000 == 0 :\n",
    "         saver.save(sess,ckpt_path+ 'model.ckpt',step) #makes a checkpoint every 1000 step       \n",
    "        if step % 100==0:\n",
    "         print('Step %d: loss = %.5f dice=%.2f (%.3f sec) ' % (step, loss_value,dice_value,duration))   \n",
    "        step += 1\n",
    "    except tf.errors.OutOfRangeError:\n",
    "      print('Done training for %d epochs, %d steps.' % (num_epochs, step))\n",
    "    finally:\n",
    "      # When done, ask the threads to stop.\n",
    "      coord.request_stop()\n",
    "      coord.join(threads)\n",
    "      sess.close()\n",
    "\n",
    "    # Wait for threads to finish.\n",
    "    #coord.join(threads)\n",
    "    #sess.close()\n"
   ]
  },
  {
   "cell_type": "code",
   "execution_count": 19,
   "metadata": {
    "scrolled": true
   },
   "outputs": [
    {
     "name": "stdout",
     "output_type": "stream",
     "text": [
      "WARNING:tensorflow:From <ipython-input-18-b2bfd204c2a4>:18: calling argmax (from tensorflow.python.ops.math_ops) with dimension is deprecated and will be removed in a future version.\n",
      "Instructions for updating:\n",
      "Use the `axis` argument instead\n",
      "WARNING:tensorflow:From <ipython-input-18-b2bfd204c2a4>:46: all_variables (from tensorflow.python.ops.variables) is deprecated and will be removed after 2017-03-02.\n",
      "Instructions for updating:\n",
      "Please use tf.global_variables instead.\n",
      "WARNING:tensorflow:From /home/dl/py2/local/lib/python2.7/site-packages/tensorflow/python/util/tf_should_use.py:118: initialize_all_variables (from tensorflow.python.ops.variables) is deprecated and will be removed after 2017-03-02.\n",
      "Instructions for updating:\n",
      "Use `tf.global_variables_initializer` instead.\n",
      "WARNING:tensorflow:From /home/dl/py2/local/lib/python2.7/site-packages/tensorflow/python/util/tf_should_use.py:118: initialize_local_variables (from tensorflow.python.ops.variables) is deprecated and will be removed after 2017-03-02.\n",
      "Instructions for updating:\n",
      "Use `tf.local_variables_initializer` instead.\n",
      "Step 0: loss = 0.57996 dice=0.02 (3.875 sec) \n",
      "Step 100: loss = 0.55886 dice=0.24 (0.267 sec) \n",
      "Step 200: loss = 0.55383 dice=0.40 (0.264 sec) \n",
      "Step 300: loss = 0.54859 dice=0.30 (0.263 sec) \n",
      "Step 400: loss = 0.54372 dice=0.37 (0.282 sec) \n",
      "Step 500: loss = 0.53927 dice=0.44 (0.270 sec) \n",
      "Step 600: loss = 0.53425 dice=0.51 (0.265 sec) \n",
      "Step 700: loss = 0.53015 dice=0.52 (0.265 sec) \n",
      "Step 800: loss = 0.52540 dice=0.43 (0.265 sec) \n",
      "Step 900: loss = 0.52130 dice=0.30 (0.264 sec) \n",
      "Step 1000: loss = 0.51698 dice=0.55 (0.266 sec) \n",
      "Step 1100: loss = 0.51222 dice=0.56 (0.265 sec) \n",
      "Step 1200: loss = 0.50841 dice=0.54 (0.266 sec) \n",
      "Step 1300: loss = 0.50456 dice=0.52 (0.264 sec) \n",
      "Step 1400: loss = 0.50056 dice=0.59 (0.267 sec) \n",
      "Step 1500: loss = 0.49705 dice=0.61 (0.265 sec) \n",
      "Step 1600: loss = 0.49353 dice=0.57 (0.267 sec) \n",
      "Step 1700: loss = 0.48994 dice=0.63 (0.268 sec) \n",
      "Step 1800: loss = 0.48710 dice=0.68 (0.266 sec) \n",
      "Step 1900: loss = 0.48355 dice=0.63 (0.266 sec) \n",
      "Step 2000: loss = 0.48069 dice=0.73 (0.266 sec) \n",
      "Step 2100: loss = 0.47707 dice=0.68 (0.266 sec) \n",
      "Step 2200: loss = 0.47417 dice=0.73 (0.267 sec) \n",
      "Step 2300: loss = 0.47156 dice=0.76 (0.266 sec) \n",
      "Step 2400: loss = 0.46879 dice=0.74 (0.266 sec) \n",
      "Step 2500: loss = 0.46608 dice=0.80 (0.272 sec) \n",
      "Step 2600: loss = 0.46336 dice=0.74 (0.266 sec) \n",
      "Step 2700: loss = 0.46096 dice=0.72 (0.266 sec) \n",
      "Step 2800: loss = 0.45848 dice=0.75 (0.266 sec) \n",
      "Step 2900: loss = 0.45612 dice=0.77 (0.266 sec) \n",
      "Step 3000: loss = 0.45389 dice=0.78 (0.266 sec) \n",
      "Step 3100: loss = 0.45166 dice=0.81 (0.265 sec) \n",
      "Step 3200: loss = 0.44971 dice=0.81 (0.265 sec) \n",
      "Step 3300: loss = 0.44776 dice=0.85 (0.268 sec) \n",
      "Step 3400: loss = 0.44573 dice=0.82 (0.267 sec) \n",
      "Step 3500: loss = 0.44379 dice=0.86 (0.266 sec) \n",
      "Step 3600: loss = 0.44210 dice=0.85 (0.266 sec) \n",
      "Step 3700: loss = 0.44035 dice=0.89 (0.267 sec) \n",
      "Step 3800: loss = 0.43862 dice=0.85 (0.267 sec) \n",
      "Step 3900: loss = 0.43699 dice=0.89 (0.266 sec) \n",
      "Step 4000: loss = 0.43544 dice=0.85 (0.265 sec) \n",
      "Step 4100: loss = 0.43391 dice=0.88 (0.264 sec) \n",
      "Step 4200: loss = 0.43251 dice=0.85 (0.264 sec) \n",
      "Step 4300: loss = 0.43109 dice=0.88 (0.263 sec) \n",
      "Step 4400: loss = 0.42968 dice=0.88 (0.267 sec) \n",
      "Step 4500: loss = 0.42837 dice=0.87 (0.264 sec) \n",
      "Step 4600: loss = 0.42715 dice=0.87 (0.265 sec) \n",
      "Step 4700: loss = 0.42590 dice=0.88 (0.265 sec) \n",
      "Step 4800: loss = 0.42459 dice=0.89 (0.267 sec) \n",
      "Step 4900: loss = 0.42338 dice=0.90 (0.266 sec) \n",
      "Step 5000: loss = 0.42224 dice=0.93 (0.267 sec) \n",
      "Step 5100: loss = 0.42109 dice=0.93 (0.266 sec) \n",
      "Step 5200: loss = 0.41996 dice=0.95 (0.266 sec) \n",
      "Step 5300: loss = 0.41892 dice=0.97 (0.264 sec) \n",
      "Step 5400: loss = 0.41800 dice=0.98 (0.265 sec) \n",
      "Step 5500: loss = 0.41694 dice=0.98 (0.265 sec) \n",
      "Step 5600: loss = 0.41605 dice=0.97 (0.265 sec) \n",
      "Step 5700: loss = 0.41517 dice=0.98 (0.266 sec) \n",
      "Step 5800: loss = 0.41427 dice=0.97 (0.263 sec) \n",
      "Step 5900: loss = 0.41343 dice=0.98 (0.264 sec) \n",
      "Step 6000: loss = 0.41262 dice=0.99 (0.266 sec) \n",
      "Step 6100: loss = 0.41192 dice=0.98 (0.266 sec) \n",
      "Step 6200: loss = 0.41113 dice=0.98 (0.264 sec) \n",
      "Step 6300: loss = 0.41052 dice=0.99 (0.266 sec) \n",
      "Step 6400: loss = 0.40964 dice=0.99 (0.266 sec) \n",
      "Step 6500: loss = 0.40893 dice=0.95 (0.267 sec) \n",
      "Step 6600: loss = 0.40837 dice=0.99 (0.265 sec) \n",
      "Step 6700: loss = 0.40771 dice=0.99 (0.265 sec) \n",
      "Step 6800: loss = 0.40699 dice=0.99 (0.265 sec) \n",
      "Step 6900: loss = 0.40651 dice=0.99 (0.263 sec) \n",
      "Step 7000: loss = 0.40596 dice=0.99 (0.266 sec) \n",
      "Step 7100: loss = 0.40523 dice=0.99 (0.265 sec) \n",
      "Step 7200: loss = 0.40491 dice=0.99 (0.266 sec) \n",
      "Step 7300: loss = 0.40437 dice=0.99 (0.265 sec) \n",
      "Step 7400: loss = 0.40400 dice=0.99 (0.266 sec) \n",
      "Step 7500: loss = 0.40335 dice=0.99 (0.265 sec) \n",
      "Step 7600: loss = 0.40288 dice=1.00 (0.267 sec) \n",
      "Step 7700: loss = 0.40251 dice=0.99 (0.265 sec) \n",
      "Step 7800: loss = 0.40209 dice=0.99 (0.266 sec) \n",
      "Step 7900: loss = 0.40144 dice=0.99 (0.265 sec) \n",
      "Step 8000: loss = 0.40126 dice=1.00 (0.266 sec) \n",
      "Step 8100: loss = 0.40059 dice=1.00 (0.266 sec) \n",
      "Step 8200: loss = 0.40061 dice=0.99 (0.264 sec) \n",
      "Step 8300: loss = 0.40013 dice=0.99 (0.265 sec) \n",
      "Step 8400: loss = 0.39980 dice=0.99 (0.266 sec) \n",
      "Step 8500: loss = 0.39926 dice=0.99 (0.265 sec) \n",
      "Step 8600: loss = 0.39894 dice=0.99 (0.266 sec) \n",
      "Step 8700: loss = 0.39889 dice=1.00 (0.265 sec) \n",
      "Step 8800: loss = 0.39824 dice=1.00 (0.265 sec) \n",
      "Step 8900: loss = 0.39804 dice=1.00 (0.266 sec) \n",
      "Step 9000: loss = 0.39741 dice=1.00 (0.266 sec) \n",
      "Step 9100: loss = 0.39748 dice=0.99 (0.266 sec) \n",
      "Step 9200: loss = 0.39725 dice=1.00 (0.266 sec) \n",
      "Step 9300: loss = 0.39698 dice=1.00 (0.266 sec) \n",
      "Step 9400: loss = 0.39671 dice=1.00 (0.266 sec) \n",
      "Step 9500: loss = 0.39641 dice=1.00 (0.265 sec) \n",
      "Step 9600: loss = 0.39598 dice=1.00 (0.263 sec) \n",
      "Step 9700: loss = 0.39582 dice=1.00 (0.269 sec) \n",
      "Step 9800: loss = 0.39565 dice=1.00 (0.266 sec) \n",
      "Step 9900: loss = 0.39532 dice=1.00 (0.265 sec) \n",
      "Step 10000: loss = 0.39533 dice=1.00 (0.266 sec) \n",
      "Step 10100: loss = 0.39517 dice=1.00 (0.266 sec) \n",
      "Step 10200: loss = 0.39477 dice=1.00 (0.266 sec) \n",
      "Step 10300: loss = 0.39434 dice=1.00 (0.266 sec) \n",
      "Step 10400: loss = 0.39462 dice=0.96 (0.266 sec) \n",
      "Step 10500: loss = 0.39417 dice=1.00 (0.266 sec) \n",
      "Step 10600: loss = 0.39376 dice=1.00 (0.265 sec) \n",
      "Step 10700: loss = 0.39403 dice=1.00 (0.265 sec) \n",
      "Step 10800: loss = 0.39378 dice=1.00 (0.265 sec) \n",
      "Step 10900: loss = 0.39370 dice=1.00 (0.266 sec) \n",
      "Step 11000: loss = 0.39328 dice=1.00 (0.264 sec) \n",
      "Step 11100: loss = 0.39299 dice=1.00 (0.267 sec) \n",
      "Step 11200: loss = 0.39302 dice=1.00 (0.266 sec) \n",
      "Step 11300: loss = 0.39315 dice=1.00 (0.266 sec) \n",
      "Step 11400: loss = 0.39286 dice=1.00 (0.264 sec) \n",
      "Step 11500: loss = 0.39271 dice=1.00 (0.264 sec) \n",
      "Step 11600: loss = 0.39265 dice=1.00 (0.265 sec) \n",
      "Step 11700: loss = 0.39240 dice=1.00 (0.265 sec) \n",
      "Step 11800: loss = 0.39220 dice=1.00 (0.266 sec) \n",
      "Step 11900: loss = 0.39238 dice=1.00 (0.266 sec) \n",
      "Step 12000: loss = 0.39217 dice=1.00 (0.265 sec) \n",
      "Step 12100: loss = 0.39193 dice=1.00 (0.263 sec) \n",
      "Step 12200: loss = 0.39164 dice=1.00 (0.266 sec) \n",
      "Step 12300: loss = 0.39191 dice=1.00 (0.265 sec) \n",
      "Step 12400: loss = 0.39151 dice=1.00 (0.264 sec) \n",
      "Step 12500: loss = 0.39201 dice=1.00 (0.265 sec) \n",
      "Step 12600: loss = 0.39122 dice=1.00 (0.265 sec) \n",
      "Step 12700: loss = 0.39115 dice=1.00 (0.265 sec) \n",
      "Step 12800: loss = 0.39129 dice=1.00 (0.267 sec) \n",
      "Step 12900: loss = 0.39139 dice=1.00 (0.265 sec) \n",
      "Step 13000: loss = 0.39093 dice=1.00 (0.265 sec) \n",
      "Step 13100: loss = 0.39075 dice=1.00 (0.266 sec) \n",
      "Step 13200: loss = 0.39076 dice=1.00 (0.267 sec) \n",
      "Step 13300: loss = 0.39065 dice=1.00 (0.266 sec) \n",
      "Step 13400: loss = 0.39076 dice=1.00 (0.266 sec) \n",
      "Step 13500: loss = 0.39077 dice=1.00 (0.264 sec) \n",
      "Step 13600: loss = 0.39060 dice=1.00 (0.264 sec) \n",
      "Step 13700: loss = 0.39060 dice=1.00 (0.264 sec) \n",
      "Step 13800: loss = 0.39056 dice=1.00 (0.263 sec) \n",
      "Step 13900: loss = 0.39013 dice=1.00 (0.264 sec) \n",
      "Step 14000: loss = 0.39023 dice=1.00 (0.267 sec) \n",
      "Step 14100: loss = 0.38990 dice=1.00 (0.265 sec) \n",
      "Step 14200: loss = 0.39020 dice=1.00 (0.265 sec) \n",
      "Step 14300: loss = 0.39008 dice=1.00 (0.267 sec) \n",
      "Step 14400: loss = 0.39010 dice=1.00 (0.264 sec) \n"
     ]
    },
    {
     "name": "stdout",
     "output_type": "stream",
     "text": [
      "Step 14500: loss = 0.39042 dice=1.00 (0.266 sec) \n",
      "Done training for 10000 epochs, 14545 steps.\n"
     ]
    }
   ],
   "source": [
    "train()"
   ]
  },
  {
   "cell_type": "code",
   "execution_count": 93,
   "metadata": {},
   "outputs": [],
   "source": [
    "def eval_once(saver,loss,dice,summary_writer, summary_op):\n",
    "  num_examples=40\n",
    "  with tf.Session() as sess:\n",
    "    ckpt = tf.train.get_checkpoint_state(ckpt_path)\n",
    "    saver.restore(sess, ckpt.model_checkpoint_path)\n",
    "    sess.run(tf.initialize_local_variables()) \n",
    "    # Start the queue runners.\n",
    "    coord = tf.train.Coordinator()\n",
    "    try:\n",
    "      threads = []\n",
    "      for qr in tf.get_collection(tf.GraphKeys.QUEUE_RUNNERS):\n",
    "        threads.extend(qr.create_threads(sess, coord=coord, daemon=True,\n",
    "                                         start=True))\n",
    "\n",
    "      num_iter=int(math.ceil(num_examples /batch_size))\n",
    "      step=0\n",
    "      mdice=[]\n",
    "      while step < num_iter and not coord.should_stop():\n",
    "        loss_value,dice_value = sess.run([loss,dice])\n",
    "        mdice.append(dice_value)\n",
    "        if step % 5==0: \n",
    "         summary_str = sess.run(summary_op)\n",
    "         summary_writer.add_summary(summary_str, step)\n",
    "   \n",
    "        \n",
    "        if step==num_iter-1:\n",
    "         print('total dice = %.2f '% (np.mean(mdice))) \n",
    "        step+=1\n",
    "\n",
    "\n",
    "    except Exception as e:  \n",
    "      coord.request_stop(e)\n",
    "\n",
    "    coord.request_stop()\n",
    "    coord.join(threads, stop_grace_period_secs=10)\n",
    "    "
   ]
  },
  {
   "cell_type": "code",
   "execution_count": 82,
   "metadata": {},
   "outputs": [],
   "source": [
    "batch_size=24\n",
    "def evaluate():\n",
    "  \"\"\"Evaluate model on Dataset for a number of steps.\"\"\"\n",
    "  with tf.Graph().as_default() as g:\n",
    "    \n",
    "    images, masks=inputs(train=False,batch_size=batch_size,num_epochs=None)\n",
    "    masks=tf.reshape(masks,[batch_size,height,width], name=None)\n",
    "    logits=inference(images,is_training=False,batch_norm=True)\n",
    "    \n",
    "    pred=tf.argmax(logits, dimension=3)\n",
    "    pred=tf.reshape(pred, [batch_size,height,width,1])\n",
    "    pred=tf.cast(pred, tf.float32)\n",
    "    tf.summary.image('predicted', pred,max_outputs=2)\n",
    "    \n",
    "    class_weight = tf.constant([0.75,0.25])\n",
    "    weighted_logits = tf.multiply(logits, class_weight) \n",
    "    cross_entropy = tf.nn.sparse_softmax_cross_entropy_with_logits(logits=weighted_logits, labels=masks)\n",
    "    \n",
    "    loss = tf.reduce_mean(cross_entropy, name='xentropy_mean')\n",
    "    dice=dice_coef(masks,pred)\n",
    "    \n",
    "    tf.summary.scalar('loss', loss)\n",
    "    tf.summary.scalar('dice', dice)\n",
    "    \n",
    "   \n",
    "\n",
    "     #Build the summary operation based on the TF collection of Summaries.\n",
    "    summary_op = tf.summary.merge_all()\n",
    "        \n",
    "    saver = tf.train.Saver(tf.all_variables())\n",
    "   \n",
    "    summary_writer = tf.summary.FileWriter(tensorb_path,g)\n",
    "    while True:\n",
    "      eval_once(saver,loss,dice,summary_writer,summary_op)\n",
    "      #pred_once(saver,pred,summary_writer,summary_op)\n",
    "      break\n",
    "      "
   ]
  },
  {
   "cell_type": "code",
   "execution_count": 83,
   "metadata": {},
   "outputs": [
    {
     "name": "stdout",
     "output_type": "stream",
     "text": [
      "INFO:tensorflow:Restoring parameters from /home/dl/Downloads/Ultrasound-Nerve-Segmentation-master/ckpt/model.ckpt-14000\n",
      "total dice = 0.44 \n"
     ]
    }
   ],
   "source": [
    "evaluate()"
   ]
  },
  {
   "cell_type": "code",
   "execution_count": 104,
   "metadata": {},
   "outputs": [],
   "source": [
    "def pred_once(saver,pred):\n",
    "   num_examples=40\n",
    "   predset=[]\n",
    "   with tf.Session() as sess:\n",
    "    ckpt = tf.train.get_checkpoint_state(ckpt_path)\n",
    "    saver.restore(sess, ckpt.model_checkpoint_path)\n",
    "    sess.run(tf.initialize_local_variables()) \n",
    "    coord = tf.train.Coordinator()\n",
    "    try:\n",
    "      threads = []\n",
    "      for qr in tf.get_collection(tf.GraphKeys.QUEUE_RUNNERS):\n",
    "        threads.extend(qr.create_threads(sess, coord=coord, daemon=True,\n",
    "                                         start=True))\n",
    "\n",
    "      num_iter=int(math.ceil(num_examples /batch_size))\n",
    "      step=0\n",
    "      \n",
    "      while step < num_iter and not coord.should_stop():\n",
    "        predictions= sess.run([pred])\n",
    "        predictions = np.array(predictions)\n",
    "        \n",
    "        if step % 100==0:\n",
    "            print'Predicting step %d out of %d ' %(step,num_iter)\n",
    "        for i in xrange (batch_size):\n",
    "            predset.append((predictions[i]))\n",
    "        step+=1\n",
    "      print(\"saving to disk\")\n",
    "      np.save(\"/home/dl/Downloads/Ultrasound-Nerve-Segmentation-master/Prediction_save\", predset, allow_pickle=True)\n",
    "    except Exception as e:  \n",
    "      coord.request_stop(e)\n",
    "\n",
    "    coord.request_stop()\n",
    "    coord.join(threads, stop_grace_period_secs=10)"
   ]
  },
  {
   "cell_type": "code",
   "execution_count": 105,
   "metadata": {},
   "outputs": [],
   "source": [
    "batch_size=12\n",
    "def pred():\n",
    "  \"\"\"Evaluate model on Dataset for a number of steps.\"\"\"\n",
    "  with tf.Graph().as_default() as g:\n",
    "    \n",
    "    images=inputs_topred(batch_size=batch_size,num_epochs=1)\n",
    "    logits=inference(images,is_training=False,batch_norm=True)\n",
    "    pred=tf.argmax(logits, dimension=3)\n",
    "    saver = tf.train.Saver(tf.all_variables())\n",
    "   \n",
    "    while True:\n",
    "      pred_once(saver,pred)\n",
    "      break\n",
    "      time.sleep(60)"
   ]
  },
  {
   "cell_type": "code",
   "execution_count": 107,
   "metadata": {},
   "outputs": [
    {
     "name": "stdout",
     "output_type": "stream",
     "text": [
      "/home/dl/Downloads/Ultrasound-Nerve-Segmentation-master/tf_records/trainrecord.tfrecords\n",
      "Shamane\n",
      "INFO:tensorflow:Restoring parameters from /home/dl/Downloads/Ultrasound-Nerve-Segmentation-master/ckpt/model.ckpt-14000\n",
      "Predicting step 0 out of 3 \n",
      "INFO:tensorflow:Error reported to Coordinator: <type 'exceptions.IndexError'>, index 1 is out of bounds for axis 0 with size 1\n"
     ]
    },
    {
     "ename": "IndexError",
     "evalue": "index 1 is out of bounds for axis 0 with size 1",
     "output_type": "error",
     "traceback": [
      "\u001b[0;31m---------------------------------------------------------------------------\u001b[0m",
      "\u001b[0;31mIndexError\u001b[0m                                Traceback (most recent call last)",
      "\u001b[0;32m<ipython-input-107-dfff753233b9>\u001b[0m in \u001b[0;36m<module>\u001b[0;34m()\u001b[0m\n\u001b[0;32m----> 1\u001b[0;31m \u001b[0mpred\u001b[0m\u001b[0;34m(\u001b[0m\u001b[0;34m)\u001b[0m\u001b[0;34m\u001b[0m\u001b[0m\n\u001b[0m",
      "\u001b[0;32m<ipython-input-105-0e4e530b0196>\u001b[0m in \u001b[0;36mpred\u001b[0;34m()\u001b[0m\n\u001b[1;32m     10\u001b[0m \u001b[0;34m\u001b[0m\u001b[0m\n\u001b[1;32m     11\u001b[0m     \u001b[0;32mwhile\u001b[0m \u001b[0mTrue\u001b[0m\u001b[0;34m:\u001b[0m\u001b[0;34m\u001b[0m\u001b[0m\n\u001b[0;32m---> 12\u001b[0;31m       \u001b[0mpred_once\u001b[0m\u001b[0;34m(\u001b[0m\u001b[0msaver\u001b[0m\u001b[0;34m,\u001b[0m\u001b[0mpred\u001b[0m\u001b[0;34m)\u001b[0m\u001b[0;34m\u001b[0m\u001b[0m\n\u001b[0m\u001b[1;32m     13\u001b[0m       \u001b[0;32mbreak\u001b[0m\u001b[0;34m\u001b[0m\u001b[0m\n\u001b[1;32m     14\u001b[0m       \u001b[0mtime\u001b[0m\u001b[0;34m.\u001b[0m\u001b[0msleep\u001b[0m\u001b[0;34m(\u001b[0m\u001b[0;36m60\u001b[0m\u001b[0;34m)\u001b[0m\u001b[0;34m\u001b[0m\u001b[0m\n",
      "\u001b[0;32m<ipython-input-104-2d8945a9c693>\u001b[0m in \u001b[0;36mpred_once\u001b[0;34m(saver, pred)\u001b[0m\n\u001b[1;32m     31\u001b[0m \u001b[0;34m\u001b[0m\u001b[0m\n\u001b[1;32m     32\u001b[0m     \u001b[0mcoord\u001b[0m\u001b[0;34m.\u001b[0m\u001b[0mrequest_stop\u001b[0m\u001b[0;34m(\u001b[0m\u001b[0;34m)\u001b[0m\u001b[0;34m\u001b[0m\u001b[0m\n\u001b[0;32m---> 33\u001b[0;31m     \u001b[0mcoord\u001b[0m\u001b[0;34m.\u001b[0m\u001b[0mjoin\u001b[0m\u001b[0;34m(\u001b[0m\u001b[0mthreads\u001b[0m\u001b[0;34m,\u001b[0m \u001b[0mstop_grace_period_secs\u001b[0m\u001b[0;34m=\u001b[0m\u001b[0;36m10\u001b[0m\u001b[0;34m)\u001b[0m\u001b[0;34m\u001b[0m\u001b[0m\n\u001b[0m",
      "\u001b[0;32m/home/dl/py2/local/lib/python2.7/site-packages/tensorflow/python/training/coordinator.pyc\u001b[0m in \u001b[0;36mjoin\u001b[0;34m(self, threads, stop_grace_period_secs, ignore_live_threads)\u001b[0m\n\u001b[1;32m    387\u001b[0m       \u001b[0mself\u001b[0m\u001b[0;34m.\u001b[0m\u001b[0m_registered_threads\u001b[0m \u001b[0;34m=\u001b[0m \u001b[0mset\u001b[0m\u001b[0;34m(\u001b[0m\u001b[0;34m)\u001b[0m\u001b[0;34m\u001b[0m\u001b[0m\n\u001b[1;32m    388\u001b[0m       \u001b[0;32mif\u001b[0m \u001b[0mself\u001b[0m\u001b[0;34m.\u001b[0m\u001b[0m_exc_info_to_raise\u001b[0m\u001b[0;34m:\u001b[0m\u001b[0;34m\u001b[0m\u001b[0m\n\u001b[0;32m--> 389\u001b[0;31m         \u001b[0msix\u001b[0m\u001b[0;34m.\u001b[0m\u001b[0mreraise\u001b[0m\u001b[0;34m(\u001b[0m\u001b[0;34m*\u001b[0m\u001b[0mself\u001b[0m\u001b[0;34m.\u001b[0m\u001b[0m_exc_info_to_raise\u001b[0m\u001b[0;34m)\u001b[0m\u001b[0;34m\u001b[0m\u001b[0m\n\u001b[0m\u001b[1;32m    390\u001b[0m       \u001b[0;32melif\u001b[0m \u001b[0mstragglers\u001b[0m\u001b[0;34m:\u001b[0m\u001b[0;34m\u001b[0m\u001b[0m\n\u001b[1;32m    391\u001b[0m         \u001b[0;32mif\u001b[0m \u001b[0mignore_live_threads\u001b[0m\u001b[0;34m:\u001b[0m\u001b[0;34m\u001b[0m\u001b[0m\n",
      "\u001b[0;32m<ipython-input-104-2d8945a9c693>\u001b[0m in \u001b[0;36mpred_once\u001b[0;34m(saver, pred)\u001b[0m\n\u001b[1;32m     23\u001b[0m             \u001b[0;32mprint\u001b[0m\u001b[0;34m'Predicting step %d out of %d '\u001b[0m \u001b[0;34m%\u001b[0m\u001b[0;34m(\u001b[0m\u001b[0mstep\u001b[0m\u001b[0;34m,\u001b[0m\u001b[0mnum_iter\u001b[0m\u001b[0;34m)\u001b[0m\u001b[0;34m\u001b[0m\u001b[0m\n\u001b[1;32m     24\u001b[0m         \u001b[0;32mfor\u001b[0m \u001b[0mi\u001b[0m \u001b[0;32min\u001b[0m \u001b[0mxrange\u001b[0m \u001b[0;34m(\u001b[0m\u001b[0mbatch_size\u001b[0m\u001b[0;34m)\u001b[0m\u001b[0;34m:\u001b[0m\u001b[0;34m\u001b[0m\u001b[0m\n\u001b[0;32m---> 25\u001b[0;31m             \u001b[0mpredset\u001b[0m\u001b[0;34m.\u001b[0m\u001b[0mappend\u001b[0m\u001b[0;34m(\u001b[0m\u001b[0;34m(\u001b[0m\u001b[0mpredictions\u001b[0m\u001b[0;34m[\u001b[0m\u001b[0mi\u001b[0m\u001b[0;34m]\u001b[0m\u001b[0;34m)\u001b[0m\u001b[0;34m)\u001b[0m\u001b[0;34m\u001b[0m\u001b[0m\n\u001b[0m\u001b[1;32m     26\u001b[0m         \u001b[0mstep\u001b[0m\u001b[0;34m+=\u001b[0m\u001b[0;36m1\u001b[0m\u001b[0;34m\u001b[0m\u001b[0m\n\u001b[1;32m     27\u001b[0m       \u001b[0;32mprint\u001b[0m\u001b[0;34m(\u001b[0m\u001b[0;34m\"saving to disk\"\u001b[0m\u001b[0;34m)\u001b[0m\u001b[0;34m\u001b[0m\u001b[0m\n",
      "\u001b[0;31mIndexError\u001b[0m: index 1 is out of bounds for axis 0 with size 1"
     ]
    }
   ],
   "source": [
    "pred()"
   ]
  },
  {
   "cell_type": "markdown",
   "metadata": {},
   "source": [
    "Let's load our predictions see and what they look like."
   ]
  },
  {
   "cell_type": "code",
   "execution_count": null,
   "metadata": {},
   "outputs": [],
   "source": [
    "predictions=np.load(\"/media/florian/My Passport/git/pred.npy\")"
   ]
  },
  {
   "cell_type": "code",
   "execution_count": null,
   "metadata": {},
   "outputs": [],
   "source": [
    "del predictions"
   ]
  },
  {
   "cell_type": "code",
   "execution_count": null,
   "metadata": {},
   "outputs": [],
   "source": [
    "plt.subplot(221)\n",
    "plt.imshow(predictions[6][0],cmap=\"gray\")\n",
    "plt.subplot(222)\n",
    "plt.imshow(predictions[60][0],cmap=\"gray\")\n",
    "plt.subplot(223)\n",
    "plt.imshow(predictions[15][0],cmap=\"gray\")\n",
    "plt.subplot(224)\n",
    "plt.imshow(predictions[3605][0],cmap=\"gray\")"
   ]
  },
  {
   "cell_type": "markdown",
   "metadata": {},
   "source": [
    "But the original size of the images was 420x580, so let's resize our predictions "
   ]
  },
  {
   "cell_type": "code",
   "execution_count": null,
   "metadata": {},
   "outputs": [],
   "source": [
    "fpred=[]\n",
    "for i in xrange(len(predictions)):\n",
    " img=imresize((predictions[i][0]), (420,580))/255\n",
    " fpred.append((img,predictions[i][1]))"
   ]
  },
  {
   "cell_type": "markdown",
   "metadata": {},
   "source": [
    "Then we do a little of post processing , any predicted image that has less than 3500 white pixels is set to a black image (no nerve)."
   ]
  },
  {
   "cell_type": "code",
   "execution_count": null,
   "metadata": {},
   "outputs": [],
   "source": [
    "allblack=np.zeros((420,580))"
   ]
  },
  {
   "cell_type": "code",
   "execution_count": null,
   "metadata": {},
   "outputs": [],
   "source": [
    "postpro=[]\n",
    "for i in xrange(len(fpred)):\n",
    " if np.sum(fpred[i][0])<3500:\n",
    "  postpro.append((allblack,fpred[i][1]))\n",
    " else:\n",
    "  postpro.append((fpred[i][0],fpred[i][1]))     "
   ]
  },
  {
   "cell_type": "code",
   "execution_count": null,
   "metadata": {},
   "outputs": [],
   "source": [
    "def run_length_enc(label):\n",
    "    '''run length encoder for submission'''\n",
    "    from itertools import chain\n",
    "    x = label.transpose().flatten()\n",
    "    y = np.where(x > 0)[0]\n",
    "    if len(y) < 10:  # consider as empty\n",
    "        return ''\n",
    "    z = np.where(np.diff(y) > 1)[0]\n",
    "    start = np.insert(y[z+1], 0, y[0])\n",
    "    end = np.append(y[z], y[-1])\n",
    "    length = end - start\n",
    "    res = [[s+1, l+1] for s, l in zip(list(start), list(length))]\n",
    "    res = list(chain.from_iterable(res))\n",
    "    return ' '.join([str(r) for r in res])"
   ]
  },
  {
   "cell_type": "code",
   "execution_count": null,
   "metadata": {},
   "outputs": [],
   "source": [
    "encpred=[]\n",
    "for i in xrange(len(fpred)):\n",
    " encpred.append((postpro[i][1],run_length_enc(postpro[i][0])))\n",
    "print('Done')"
   ]
  },
  {
   "cell_type": "code",
   "execution_count": null,
   "metadata": {},
   "outputs": [],
   "source": [
    "with open('submissionUNS.csv','wb') as csvfile:\n",
    " writer=csv.writer(csvfile)\n",
    " length_list=len(encpred)\n",
    " writer.writerow([\"img\",\"pixels\"])\n",
    " for i in xrange(length_list):    \n",
    "    writer.writerow([encpred[i][0],encpred[i][1]])"
   ]
  }
 ],
 "metadata": {
  "anaconda-cloud": {},
  "kernelspec": {
   "display_name": "Python 2",
   "language": "python",
   "name": "python2"
  },
  "language_info": {
   "codemirror_mode": {
    "name": "ipython",
    "version": 3
   },
   "file_extension": ".py",
   "mimetype": "text/x-python",
   "name": "python",
   "nbconvert_exporter": "python",
   "pygments_lexer": "ipython3",
   "version": "3.6.5"
  }
 },
 "nbformat": 4,
 "nbformat_minor": 1
}
